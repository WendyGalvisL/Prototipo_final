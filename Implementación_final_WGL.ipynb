{
  "cells": [
    {
      "cell_type": "markdown",
      "source": [
        "# Implementación modelo"
      ],
      "metadata": {
        "id": "pP8NmwBDq8h1"
      },
      "id": "pP8NmwBDq8h1"
    },
    {
      "cell_type": "code",
      "source": [
        "# ============================================\n",
        "# 0) Imports y utilidades\n",
        "# ============================================\n",
        "import pandas as pd\n",
        "import numpy as np\n",
        "from sklearn.cluster import KMeans\n",
        "from sklearn.preprocessing import StandardScaler\n",
        "\n",
        "def load_data(path=\"data_procesada.csv\"):\n",
        "    df = pd.read_csv(path)\n",
        "    # Asegurar columnas esperadas\n",
        "    missing = [c for c in FEATURES if c not in df.columns]\n",
        "    if missing:\n",
        "        raise ValueError(f\"Faltan columnas en data_procesada: {missing}\")\n",
        "\n",
        "    # Coerción a numérico/bool\n",
        "    for c in FEATURES:\n",
        "        # Si es binario, mapear True/False/NaN a 1/0\n",
        "        if c != \"dens_int\":\n",
        "            df[c] = df[c].astype(\"float\").astype(\"Int64\")  # por si viene como 0/1/NaN\n",
        "            df[c] = df[c].fillna(0).astype(int)\n",
        "        else:\n",
        "            df[c] = pd.to_numeric(df[c], errors=\"coerce\")\n",
        "\n",
        "    # Imputación mínima para dens_int\n",
        "    if df[\"dens_int\"].isna().any():\n",
        "        df[\"dens_int\"] = df[\"dens_int\"].fillna(df[\"dens_int\"].median())\n",
        "\n",
        "    return df"
      ],
      "metadata": {
        "id": "vgGBeH-lRdmz"
      },
      "id": "vgGBeH-lRdmz",
      "execution_count": 7,
      "outputs": []
    },
    {
      "cell_type": "code",
      "source": [
        "# ============================================\n",
        "# 1) Cargar datos\n",
        "# ============================================\n",
        "df = load_data(\"data_procesada.csv\")"
      ],
      "metadata": {
        "id": "sBZYyfILR0JG"
      },
      "id": "sBZYyfILR0JG",
      "execution_count": 8,
      "outputs": []
    },
    {
      "cell_type": "code",
      "source": [
        "# --- 1) Variables para clustering  ---\n",
        "FEATURES = [\n",
        "    \"Servicios_Telecomunicaciones_No\",\n",
        "    \"Servicios_Telecomunicaciones_Si\",\n",
        "    \"Dispositivos_hogar_No\",\n",
        "    \"conexion_hogar_si\",\n",
        "    \"interrupciones_si\",\n",
        "    \"frec_uso_si\",\n",
        "    \"dens_int\",\n",
        "]\n",
        "\n",
        "# --- 2) Preparar matriz de entrenamiento ---\n",
        "X = df[FEATURES].copy()\n",
        "scaler = StandardScaler()\n",
        "X[[\"dens_int\"]] = scaler.fit_transform(X[[\"dens_int\"]])\n",
        "\n",
        "# --- 3) Entrenar K-means con k=12 (configuración seleccionada) ---\n",
        "kmeans = KMeans(n_clusters=12, n_init=50, random_state=123)\n",
        "labels = kmeans.fit_predict(X)\n",
        "\n",
        "# Añadir columna de cluster al dataframe original\n",
        "df_lab = df.copy()\n",
        "df_lab[\"cluster\"] = labels"
      ],
      "metadata": {
        "id": "FatIPBSBR9xm"
      },
      "id": "FatIPBSBR9xm",
      "execution_count": 9,
      "outputs": []
    },
    {
      "cell_type": "code",
      "source": [
        "# --- 4) Normalización para empatar con shapefile ---\n",
        "def norm(s: pd.Series) -> pd.Series:\n",
        "    return (s.astype(str).str.upper()\n",
        "             .str.normalize(\"NFKD\").str.encode(\"ascii\",\"ignore\").str.decode(\"utf-8\")\n",
        "             .str.replace(r\"[^A-Z0-9\\s]\", \" \", regex=True)\n",
        "             .str.replace(r\"\\s+\", \" \", regex=True)\n",
        "             .str.strip())\n",
        "\n",
        "df_lab[\"dep_norm\"] = norm(df_lab[\"Nombre Departamento\"])"
      ],
      "metadata": {
        "id": "RKGTrz7xSe3a"
      },
      "id": "RKGTrz7xSe3a",
      "execution_count": 10,
      "outputs": []
    },
    {
      "cell_type": "code",
      "source": [
        "df_lab.to_csv(\"df_lab.csv\", index=False, encoding=\"utf-8\")"
      ],
      "metadata": {
        "id": "d_afiGAxSBcj"
      },
      "id": "d_afiGAxSBcj",
      "execution_count": 11,
      "outputs": []
    }
  ],
  "metadata": {
    "kernelspec": {
      "display_name": "base",
      "language": "python",
      "name": "python3"
    },
    "language_info": {
      "codemirror_mode": {
        "name": "ipython",
        "version": 3
      },
      "file_extension": ".py",
      "mimetype": "text/x-python",
      "name": "python",
      "nbconvert_exporter": "python",
      "pygments_lexer": "ipython3",
      "version": "3.11.8"
    },
    "colab": {
      "provenance": []
    }
  },
  "nbformat": 4,
  "nbformat_minor": 5
}